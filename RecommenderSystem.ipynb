{
 "cells": [
  {
   "cell_type": "code",
   "execution_count": 1,
   "metadata": {},
   "outputs": [],
   "source": [
    "# Move to the directory where the project is located\n",
    "import os\n",
    "os.chdir('/work/notebooks/enstit/RecommenderSystem')"
   ]
  },
  {
   "cell_type": "markdown",
   "metadata": {},
   "source": [
    "<div align=\"center\">\n",
    "  <img src=\"./assets/steflix.png\" width=\"225px\">\n",
    "</div>\n",
    "\n",
    "# 🍿 STEFLIX: A Movie-based Recommender System"
   ]
  },
  {
   "cell_type": "markdown",
   "metadata": {},
   "source": [
    "The aim of this repository is to build a **Recommender System** that uses Matrix Factorization to learn user and items embeddings from a (sparse) review matrix, and uses them to perform user-specific suggestions."
   ]
  },
  {
   "cell_type": "markdown",
   "metadata": {},
   "source": [
    "## Reading data"
   ]
  },
  {
   "cell_type": "markdown",
   "metadata": {},
   "source": [
    "The data that we are going to use to populate our Recommender System is located in the `data` folder. IN particular, there is the `movies.csv` file that contains the list of all the movies in the collection, and the `ratings.csv` file that contains all the reviews left by users to the movies (in our system, a particular *user* can leave a score from 0 to 5 to any *movie*. It is possible to leave half points, e.g. 4.5 for an almost-perfect movie). "
   ]
  },
  {
   "cell_type": "code",
   "execution_count": 2,
   "metadata": {},
   "outputs": [],
   "source": [
    "import pandas as pd\n",
    "\n",
    "# Read movies and ratings from the related CSV files\n",
    "movies = pd.read_csv('./data/movies.csv', usecols=['movieId', 'title'])\n",
    "ratings = pd.read_csv('./data/ratings.csv', usecols=['userId', 'movieId', 'rating'])\n",
    "\n",
    "users_list = ratings.userId.unique().astype(str).tolist()\n",
    "movies_list = movies.title.unique().astype(str).tolist()\n",
    "\n",
    "C = pd.pivot_table(ratings, values='rating', index=['userId'], columns=['movieId']).values[:, :]"
   ]
  },
  {
   "cell_type": "markdown",
   "metadata": {},
   "source": [
    "Now we have:\n",
    "* the `users_list`, that contains the unique names of all the users that reviewed a movie,\n",
    "* the `movies_list`, with the name of all the movies in the reviewed collection, and\n",
    "* the matrix `C`, that represents the feedback that any user gave to any movie in the collection. If no review for a specific movie has been left by a user, the related cell will contain a `nan` value."
   ]
  },
  {
   "cell_type": "markdown",
   "metadata": {},
   "source": [
    "## Building the Recommender System"
   ]
  },
  {
   "cell_type": "markdown",
   "metadata": {},
   "source": [
    "The `utils` folder contains all the class definition for our system to work. In aprticular, the `recsys` package contains the definition of the `RecommenderSystem` class.\n",
    "\n",
    "When we initialize the object, it automatically use Weighted Matrix Factorization to compute *users* and *items* embeddings."
   ]
  },
  {
   "cell_type": "code",
   "execution_count": 3,
   "metadata": {},
   "outputs": [
    {
     "name": "stderr",
     "output_type": "stream",
     "text": [
      "2024-01-18 18:29:37,335 - DEBUG - Loading Steflix from filesystem...\n",
      "2024-01-18 18:29:37,336 - DEBUG - No filename provided, using default (object_name.pkl)...\n"
     ]
    }
   ],
   "source": [
    "from utils.recsys import RecommenderSystem\n",
    "\n",
    "#rs = RecommenderSystem(name=\"Steflix\", reviews=C, users=users_list, items=movies_list)\n",
    "#rs.save()\n",
    "\n",
    "rs = RecommenderSystem(name=\"Steflix\")\n",
    "rs = rs.load()"
   ]
  },
  {
   "cell_type": "code",
   "execution_count": 64,
   "metadata": {},
   "outputs": [
    {
     "name": "stdout",
     "output_type": "stream",
     "text": [
      "==========  =================================  ========\n",
      "  Position  Movie Name                           Rating\n",
      "==========  =================================  ========\n",
      "         1  Seven (a.k.a. Se7en) (1995)               4\n",
      "         2  Die Hard: With a Vengeance (1995)         4\n",
      "         3  Pulp Fiction (1994)                       4\n",
      "         4  Firm, The (1993)                          4\n",
      "         5  Fugitive, The (1993)                      4\n",
      "         6  Batman (1989)                             4\n",
      "         7  Silence of the Lambs, The (1991)          4\n",
      "         8  GoldenEye (1995)                          3\n",
      "         9  Babe (1995)                               3\n",
      "        10  Apollo 13 (1995)                          3\n",
      "        11  Batman Forever (1995)                     3\n",
      "        12  Net, The (1995)                           3\n",
      "        13  Disclosure (1994)                         3\n",
      "        14  Natural Born Killers (1994)               3\n",
      "        15  Quiz Show (1994)                          3\n",
      "        16  Ace Ventura: Pet Detective (1994)         3\n",
      "        17  Clear and Present Danger (1994)           3\n",
      "        18  Forrest Gump (1994)                       3\n",
      "        19  True Lies (1994)                          3\n",
      "        20  Waterworld (1995)                         2\n",
      "        21  Cliffhanger (1993)                        2\n",
      "==========  =================================  ========\n"
     ]
    }
   ],
   "source": [
    "rs.print_user_chart(user=\"26\", first_n=100)"
   ]
  },
  {
   "cell_type": "code",
   "execution_count": 65,
   "metadata": {},
   "outputs": [
    {
     "data": {
      "text/plain": [
       "['Saving Private Ryan (1998)',\n",
       " 'Sommersby (1993)',\n",
       " 'Alaska (1996)',\n",
       " 'Guinevere (1999)',\n",
       " 'Gods Must Be Crazy, The (1980)',\n",
       " 'Spawn (1997)',\n",
       " 'Blood Feast (1963)',\n",
       " 'Candidate, The (1972)',\n",
       " 'Rules of Engagement (2000)',\n",
       " 'Far From Home: The Adventures of Yellow Dog (1995)']"
      ]
     },
     "execution_count": 65,
     "metadata": {},
     "output_type": "execute_result"
    }
   ],
   "source": [
    "indexes = rs.contentbased_filtering(user_index=26, top_k=10)\n",
    "[rs.items[index] for index in indexes]"
   ]
  },
  {
   "cell_type": "code",
   "execution_count": null,
   "metadata": {},
   "outputs": [],
   "source": []
  }
 ],
 "metadata": {
  "kernelspec": {
   "display_name": "Python 3 (ipykernel)",
   "language": "python",
   "name": "python3"
  },
  "language_info": {
   "codemirror_mode": {
    "name": "ipython",
    "version": 3
   },
   "file_extension": ".py",
   "mimetype": "text/x-python",
   "name": "python",
   "nbconvert_exporter": "python",
   "pygments_lexer": "ipython3",
   "version": "3.11.7"
  }
 },
 "nbformat": 4,
 "nbformat_minor": 4
}
