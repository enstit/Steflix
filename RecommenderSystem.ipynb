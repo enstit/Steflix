{
 "cells": [
  {
   "cell_type": "markdown",
   "metadata": {},
   "source": [
    "# Recommender System"
   ]
  },
  {
   "cell_type": "code",
   "execution_count": null,
   "metadata": {},
   "outputs": [],
   "source": [
    "import pandas as pd\n",
    "import numpy as np\n",
    "import os\n",
    "\n",
    "os.chdir('./enstit/RecommenderSystem')"
   ]
  },
  {
   "cell_type": "markdown",
   "metadata": {},
   "source": [
    "# Recommender System"
   ]
  },
  {
   "cell_type": "code",
   "execution_count": null,
   "metadata": {},
   "outputs": [],
   "source": [
    "import pandas as pd\n",
    "import numpy as np\n",
    "from utils.linalg import cosine_similarity\n",
    "\n",
    "# Build the feedbacks matrix\n",
    "movies = pd.read_csv('./data/movies.csv', usecols=['movieId', 'title'])\n",
    "ratings = pd.read_csv('./data/ratings.csv', usecols=['userId', 'movieId', 'rating'])\n",
    "\n",
    "feedbacks = pd.pivot_table(ratings, values='rating', index=['userId'], columns=['movieId'], aggfunc=\"mean\")#.fillna(0)\n",
    "feedbacks.reset_index(inplace=True)\n",
    "feedbacks.columns.name = None\n",
    "\n",
    "feedbacks_matrix = feedbacks[feedbacks.columns[1:]][:].values\n",
    "feedbacks_matrix = feedbacks_matrix[:500, :1000]"
   ]
  },
  {
   "cell_type": "code",
   "execution_count": null,
   "metadata": {},
   "outputs": [],
   "source": [
    "import numpy as np\n",
    "from utils.linalg import weighted_wals, inverse_frequency_weights\n",
    "\n",
    "# Number of latent factors\n",
    "num_factors = 100\n",
    "\n",
    "# Maximum number of iterations, regularization parameters, and weights for WALS\n",
    "lambda_reg = 0.99\n",
    "lambda_w0 = 0.1\n",
    "lambda_wi = 0.9\n",
    "\n",
    "# Tolerance for convergence\n",
    "tolerance = 1e-3\n",
    "\n",
    "# Call the Weighted WALS function to get the user and item factors\n",
    "user_factors, item_factors = weighted_wals(\n",
    "    matrix_M=feedbacks_matrix,\n",
    "    num_factors=num_factors,\n",
    "    weights=inverse_frequency_weights(feedbacks_matrix, lambda_w0=lambda_w0, lambda_wi=lambda_wi),\n",
    "    lambda_reg=lambda_reg\n",
    "    )"
   ]
  },
  {
   "cell_type": "code",
   "execution_count": null,
   "metadata": {},
   "outputs": [],
   "source": [
    "USER = 236\n",
    "\n",
    "highest_similarity = -np.inf\n",
    "highest_sim_row = -1\n",
    "for row in range(0,user_factors.shape[0]):\n",
    "    if row == USER:\n",
    "        continue\n",
    "    similarity = cosine_similarity(user_factors[USER,:], user_factors[row,:])\n",
    "    if similarity > highest_similarity:\n",
    "        highest_similarity = similarity\n",
    "        highest_sim_row = row\n",
    "\n",
    "print(\"User %d is most similar to User %d\" % (USER, highest_sim_row))"
   ]
  },
  {
   "cell_type": "code",
   "execution_count": null,
   "metadata": {},
   "outputs": [],
   "source": [
    "import numpy as np\n",
    "from utils.matfac import WeightedMatrixFactorization\n",
    "\n",
    "model = WeightedMatrixFactorization(feedbacks_matrix)\n",
    "model.fit()"
   ]
  },
  {
   "cell_type": "markdown",
   "metadata": {},
   "source": [
    "---"
   ]
  },
  {
   "cell_type": "code",
   "execution_count": 1,
   "metadata": {},
   "outputs": [],
   "source": [
    "import os\n",
    "\n",
    "os.chdir('./enstit/RecommenderSystem')"
   ]
  },
  {
   "cell_type": "code",
   "execution_count": 3,
   "metadata": {},
   "outputs": [
    {
     "name": "stdout",
     "output_type": "stream",
     "text": [
      "Iteration: 1 -> Loss: 6926.7724359503445\n",
      "Iteration: 2 -> Loss: 2423.573890006697\n",
      "Iteration: 3 -> Loss: 1887.0692849462737\n",
      "Iteration: 4 -> Loss: 1703.913697588726\n",
      "Iteration: 5 -> Loss: 1615.981799635736\n",
      "Iteration: 6 -> Loss: 1566.5510466989972\n",
      "Iteration: 7 -> Loss: 1535.3758747563934\n",
      "Iteration: 8 -> Loss: 1514.1107987867413\n",
      "Iteration: 9 -> Loss: 1498.9343012338243\n",
      "Iteration: 10 -> Loss: 1487.7878516744254\n"
     ]
    }
   ],
   "source": [
    "from utils.recsys import RecommenderSystem\n",
    "import pandas as pd\n",
    "\n",
    "# Build the feedbacks matrix\n",
    "movies = pd.read_csv('./data/movies.csv', usecols=['movieId', 'title'])\n",
    "ratings = pd.read_csv('./data/ratings.csv', usecols=['userId', 'movieId', 'rating'])\n",
    "\n",
    "feedbacks = pd.pivot_table(ratings, values='rating', index=['userId'], columns=['movieId'], aggfunc=\"mean\")#.fillna(0)\n",
    "feedbacks.reset_index(inplace=True)\n",
    "feedbacks.columns.name = None\n",
    "\n",
    "feedbacks_matrix = feedbacks[feedbacks.columns[1:]][:].values\n",
    "feedbacks_matrix = feedbacks_matrix[:500, :1000]\n",
    "\n",
    "\n",
    "user_list = [f\"User {i}\" for i in range(0, feedbacks_matrix.shape[0])]\n",
    "movies_list = movies.title.tolist()\n",
    "\n",
    "rs = RecommenderSystem(reviews=feedbacks_matrix, users=user_list, items=movies_list)"
   ]
  },
  {
   "cell_type": "code",
   "execution_count": 23,
   "metadata": {},
   "outputs": [
    {
     "name": "stdout",
     "output_type": "stream",
     "text": [
      "1 [(4.0, 'Tommy Boy (1995)'), (3.0, 'Shawshank Redemption, The (1994)')]\n",
      "105 [(5.0, 'Shawshank Redemption, The (1994)')]\n",
      "147 [(4.0, 'Forrest Gump (1994)'), (3.0, 'Star Wars: Episode V - The Empire Strikes Back (1980)')]\n",
      "153 [(5.0, 'Forrest Gump (1994)'), (5.0, \"Sophie's Choice (1982)\")]\n",
      "162 []\n",
      "174 [(3.5, 'Secret Garden, The (1993)'), (0.5, 'Mystery Science Theater 3000: The Movie (1996)')]\n",
      "183 []\n",
      "235 [(5.0, 'Goodfellas (1990)'), (5.0, 'Cyrano de Bergerac (1990)')]\n",
      "290 [(4.0, 'Toy Story (1995)')]\n",
      "305 []\n",
      "319 [(3.5, 'Parent Trap, The (1961)')]\n",
      "357 [(4.0, \"Breakfast at Tiffany's (1961)\"), (3.0, 'One Fine Day (1996)')]\n",
      "359 []\n",
      "458 [(4.0, 'Star Wars: Episode IV - A New Hope (1977)')]\n",
      "480 [(4.0, 'Hear My Song (1991)'), (3.0, 'Fly Away Home (1996)')]\n"
     ]
    },
    {
     "data": {
      "text/plain": [
       "[None,\n",
       " None,\n",
       " None,\n",
       " None,\n",
       " None,\n",
       " None,\n",
       " None,\n",
       " None,\n",
       " None,\n",
       " None,\n",
       " None,\n",
       " None,\n",
       " None,\n",
       " None,\n",
       " None]"
      ]
     },
     "execution_count": 23,
     "metadata": {},
     "output_type": "execute_result"
    }
   ],
   "source": [
    "[print(i, rs.get_user_chart(f\"User {i}\")) for i in range(rs.reviews.shape[0]) if len(rs.get_user_chart(f\"User {i}\")) < 3]"
   ]
  },
  {
   "cell_type": "code",
   "execution_count": 28,
   "metadata": {},
   "outputs": [
    {
     "data": {
      "text/plain": [
       "['Mary Reilly (1996)',\n",
       " 'Eye for an Eye (1996)',\n",
       " 'Heidi Fleiss: Hollywood Madam (1995)',\n",
       " 'Balto (1995)',\n",
       " 'Tom and Huck (1995)']"
      ]
     },
     "execution_count": 28,
     "metadata": {},
     "output_type": "execute_result"
    }
   ],
   "source": [
    "[rs.items[i] for i in rs.get_user_recommendations(\"User 147\")]"
   ]
  },
  {
   "cell_type": "code",
   "execution_count": 51,
   "metadata": {},
   "outputs": [
    {
     "name": "stdout",
     "output_type": "stream",
     "text": [
      "Top 10 collaborative recommendations for user 458: [54 51 67 15 37 89  6 80 66 46]\n",
      "Top 10 content-based recommendations for user 458: [897 874 910 575 255 543 181  57 648 603]\n"
     ]
    }
   ],
   "source": [
    "import numpy as np\n",
    "from sklearn.metrics.pairwise import cosine_similarity\n",
    "\n",
    "class HybridFiltering:\n",
    "    def __init__(self, user_embeddings, item_embeddings, reviews):\n",
    "        \"\"\"\n",
    "        Initialize the hybrid filtering model.\n",
    "\n",
    "        Parameters:\n",
    "        - user_embeddings: Matrix of user embeddings.\n",
    "        - item_embeddings: Matrix of item embeddings.\n",
    "        - reviews: User-item interaction matrix (NaN for unobserved values).\n",
    "        - content_features: Matrix of content-based features for items (optional).\n",
    "        \"\"\"\n",
    "        self.user_embeddings = user_embeddings\n",
    "        self.item_embeddings = item_embeddings\n",
    "        self.reviews = reviews\n",
    "\n",
    "    def recommend_top_k_items(self, user_index, top_k=10, method='collaborative'):\n",
    "        \"\"\"\n",
    "        Recommend the top-k items for a given user using hybrid filtering.\n",
    "\n",
    "        Parameters:\n",
    "        - user_index: Index of the target user.\n",
    "        - top_k: Number of top items to recommend.\n",
    "        - method: Recommendation method ('collaborative' or 'content-based').\n",
    "\n",
    "        Returns:\n",
    "        - List of top-k recommended item indices.\n",
    "        \"\"\"\n",
    "        if method == 'collaborative':\n",
    "            return self.collaborative_recommendation(user_index, top_k)\n",
    "        elif method == 'content-based':\n",
    "            return self.content_based_recommendation(user_index, top_k)\n",
    "        else:\n",
    "            raise ValueError(\"Invalid recommendation method. Use 'collaborative' or 'content-based'.\")\n",
    "\n",
    "    def collaborative_recommendation(self, user_index, top_k=10):\n",
    "        \"\"\"\n",
    "        Recommend top-k items for a user using collaborative filtering.\n",
    "\n",
    "        Parameters:\n",
    "        - user_index: Index of the target user.\n",
    "        - top_k: Number of top items to recommend.\n",
    "\n",
    "        Returns:\n",
    "        - List of top-k recommended item indices.\n",
    "        \"\"\"\n",
    "        target_user_embedding = self.user_embeddings[user_index]\n",
    "        similarities = cosine_similarity([target_user_embedding], self.user_embeddings).flatten()\n",
    "        similar_users = np.argsort(similarities)[::-1][1:top_k+1]\n",
    "\n",
    "        aggregated_preferences = np.sum(self.user_embeddings[similar_users] * similarities[similar_users, np.newaxis], axis=0)\n",
    "        user_index = min(user_index, self.reviews.shape[0] - 1)\n",
    "        item_indices = np.where(np.isnan(self.reviews[user_index]))[0]\n",
    "\n",
    "        recommended_item_indices = item_indices[np.argsort(aggregated_preferences)[::-1]][:top_k]\n",
    "        return recommended_item_indices\n",
    "\n",
    "    def content_based_recommendation(self, user_index, top_k=10):\n",
    "        \"\"\"\n",
    "        Recommend top-k items for a user using content-based filtering.\n",
    "\n",
    "        Parameters:\n",
    "        - user_index: Index of the target user.\n",
    "        - top_k: Number of top items to recommend.\n",
    "\n",
    "        Returns:\n",
    "        - List of top-k recommended item indices.\n",
    "        \"\"\"\n",
    "\n",
    "        target_user_embedding = self.user_embeddings[user_index]\n",
    "        item_indices = np.where(np.isnan(self.reviews[user_index]))[0]\n",
    "\n",
    "        # Calculate cosine similarity between the target user and items based on content features\n",
    "        similarities = cosine_similarity([target_user_embedding], self.item_embeddings[item_indices]).flatten()\n",
    "\n",
    "        # Sort items according to content-based similarity in descending order\n",
    "        recommended_item_indices = item_indices[np.argsort(similarities)[::-1]][:top_k]\n",
    "        return recommended_item_indices\n",
    "\n",
    "# Example usage:\n",
    "# Assuming 'user_embeddings', 'item_embeddings', 'reviews', and 'content_features' are your matrices\n",
    "hybrid_model = HybridFiltering(rs.user_embedding, rs.item_embedding, rs.reviews)\n",
    "\n",
    "# Recommend top-10 items for user with index 0 using collaborative filtering\n",
    "user_index_to_recommend = 458\n",
    "top_k_recommendations_collaborative = hybrid_model.recommend_top_k_items(user_index_to_recommend, top_k=10, method='collaborative')\n",
    "\n",
    "# Recommend top-10 items for user with index 0 using content-based filtering\n",
    "top_k_recommendations_content_based = hybrid_model.recommend_top_k_items(user_index_to_recommend, top_k=10, method='content-based')\n",
    "\n",
    "print(f\"Top 10 collaborative recommendations for user {user_index_to_recommend}: {top_k_recommendations_collaborative}\")\n",
    "print(f\"Top 10 content-based recommendations for user {user_index_to_recommend}: {top_k_recommendations_content_based}\")\n"
   ]
  },
  {
   "cell_type": "code",
   "execution_count": 61,
   "metadata": {},
   "outputs": [
    {
     "data": {
      "text/plain": [
       "'Ashes of Time (Dung che sai duk) (1994)'"
      ]
     },
     "execution_count": 61,
     "metadata": {},
     "output_type": "execute_result"
    }
   ],
   "source": [
    "rs.items[603]"
   ]
  },
  {
   "cell_type": "code",
   "execution_count": 63,
   "metadata": {},
   "outputs": [
    {
     "data": {
      "text/plain": [
       "array([224])"
      ]
     },
     "execution_count": 63,
     "metadata": {},
     "output_type": "execute_result"
    }
   ],
   "source": [
    "np.where(~np.isnan(rs.reviews[458]))[0]"
   ]
  },
  {
   "cell_type": "code",
   "execution_count": null,
   "metadata": {},
   "outputs": [],
   "source": []
  }
 ],
 "metadata": {
  "kernelspec": {
   "display_name": "Python 3 (ipykernel)",
   "language": "python",
   "name": "python3"
  },
  "language_info": {
   "codemirror_mode": {
    "name": "ipython",
    "version": 3
   },
   "file_extension": ".py",
   "mimetype": "text/x-python",
   "name": "python",
   "nbconvert_exporter": "python",
   "pygments_lexer": "ipython3",
   "version": "3.11.7"
  }
 },
 "nbformat": 4,
 "nbformat_minor": 4
}
