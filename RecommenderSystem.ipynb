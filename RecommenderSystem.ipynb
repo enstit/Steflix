{
 "cells": [
  {
   "cell_type": "code",
   "execution_count": 1,
   "metadata": {},
   "outputs": [],
   "source": [
    "# Move to the directory where the project is located\n",
    "import os\n",
    "os.chdir('/work/notebooks/enstit/RecommenderSystem')"
   ]
  },
  {
   "cell_type": "markdown",
   "metadata": {},
   "source": [
    "<div align=\"center\">\n",
    "  <img src=\"./assets/steflix.png\" width=\"225px\">\n",
    "</div>\n",
    "\n",
    "# 🍿 STEFLIX: A Movie-based Recommender System"
   ]
  },
  {
   "cell_type": "markdown",
   "metadata": {},
   "source": [
    "The aim of this repository is to build a **Recommender System** that uses Matrix Factorization to learn user and items embeddings from a (sparse) review matrix, and uses them to perform user-specific suggestions."
   ]
  },
  {
   "cell_type": "markdown",
   "metadata": {},
   "source": [
    "## Reading data"
   ]
  },
  {
   "cell_type": "markdown",
   "metadata": {},
   "source": [
    "The data that we are going to use to populate our Recommender System is located in the `data` folder. In particular, there is the `movies.csv` file that contains the list of all the movies in the collection, and the `ratings.csv` file that contains all the reviews left by users to the movies (in our system, a particular *user* can leave a score from 0 to 5 to any *movie*. It is possible to leave half points, e.g. 4.5 for an almost-perfect movie). "
   ]
  },
  {
   "cell_type": "code",
   "execution_count": 2,
   "metadata": {},
   "outputs": [],
   "source": [
    "import pandas as pd\n",
    "\n",
    "# Read movies and ratings from the related CSV files\n",
    "movies = pd.read_csv('./data/movies.csv', usecols=['movieId', 'title', 'genres'])\n",
    "ratings = pd.read_csv('./data/ratings.csv', usecols=['userId', 'movieId', 'rating'])\n",
    "\n",
    "users_list = ratings.userId.unique().astype(str).tolist()[:]\n",
    "movies_list = movies.title.unique().astype(str).tolist()[:1_000]\n",
    "\n",
    "C = pd.pivot_table(ratings, values='rating', index=['userId'], columns=['movieId']).values[:, :1_000]"
   ]
  },
  {
   "cell_type": "markdown",
   "metadata": {},
   "source": [
    "Now we have:\n",
    "* the `users_list`, that contains the unique names of all the users that reviewed a movie,\n",
    "* the `movies_list`, with the name of all the movies in the reviewed collection, and\n",
    "* the matrix `C`, that represents the feedback that any user gave to any movie in the collection. If no review for a specific movie has been left by a user, the related cell will contain a `nan` value."
   ]
  },
  {
   "cell_type": "markdown",
   "metadata": {},
   "source": [
    "## Building the Recommender System"
   ]
  },
  {
   "cell_type": "markdown",
   "metadata": {},
   "source": [
    "The `utils` folder contains all the class definition for our system to work. In aprticular, the `recsys` package contains the definition of the `RecommenderSystem` class.\n",
    "\n",
    "After initializing the `rs` object, we have to call the `build_embeddings()` funtion to compute *users* and *items* embeddings (using Weighted Matrix Factorization)."
   ]
  },
  {
   "cell_type": "code",
   "execution_count": 7,
   "metadata": {},
   "outputs": [
    {
     "name": "stderr",
     "output_type": "stream",
     "text": [
      "2024-01-19 15:26:21,327 - DEBUG - Loading Steflix from filesystem...\n",
      "2024-01-19 15:26:21,329 - DEBUG - No filename provided, using default (object_name.pkl)...\n"
     ]
    }
   ],
   "source": [
    "from utils.recsys import RecommenderSystem\n",
    "\n",
    "try:\n",
    "    # Load the recommender system from filesystem\n",
    "    rs = RecommenderSystem(name=\"Steflix\")\n",
    "    rs = rs.load()\n",
    "except FileNotFoundError:\n",
    "    rs = RecommenderSystem(name=\"Steflix\", reviews=C, users=users_list, items=movies_list) # Create a new recommender system\n",
    "    rs.build_embeddings() # Build the users and items embeddings\n",
    "    rs.save() # Save the recommender system to disk for persistence"
   ]
  },
  {
   "cell_type": "markdown",
   "metadata": {},
   "source": [
    "Now our Recommender System contains information about the users name, the movies titles and the related ratings.\n",
    "\n",
    "But what about movies that are not been watched by a user? The embeddings we constructbuilted are useful for exactly this reason: they allow us to infer about how much a user is attracted to certain *latent features*, and at the same time how each movie can be described by each of these *latent features*. By putting the two together, we can try to guess what movies a user might enjoy before that user has even seen them.\n",
    "\n",
    "Let's start by seeing the top 20 movies watched by user *569*, for example: "
   ]
  },
  {
   "cell_type": "code",
   "execution_count": 12,
   "metadata": {},
   "outputs": [
    {
     "name": "stdout",
     "output_type": "stream",
     "text": [
      "==========  ======================================  ========\n",
      "  Position  Item Name                                 Rating\n",
      "==========  ======================================  ========\n",
      "         1  Batman Forever (1995)                          5\n",
      "         2  Die Hard: With a Vengeance (1995)              5\n",
      "         3  Pulp Fiction (1994)                            5\n",
      "         4  Star Trek: Generations (1994)                  5\n",
      "         5  Speed (1994)                                   5\n",
      "         6  GoldenEye (1995)                               4\n",
      "         7  Net, The (1995)                                4\n",
      "         8  Stargate (1994)                                4\n",
      "         9  Ace Ventura: Pet Detective (1994)              4\n",
      "        10  Clear and Present Danger (1994)                4\n",
      "        11  Cliffhanger (1993)                             4\n",
      "        12  Jurassic Park (1993)                           4\n",
      "        13  Aladdin (1992)                                 4\n",
      "        14  Dances with Wolves (1990)                      4\n",
      "        15  Beauty and the Beast (1991)                    4\n",
      "        16  Usual Suspects, The (1995)                     3\n",
      "        17  Dumb & Dumber (Dumb and Dumber) (1994)         3\n",
      "        18  Forrest Gump (1994)                            3\n",
      "        19  True Lies (1994)                               3\n",
      "        20  Batman (1989)                                  3\n",
      "==========  ======================================  ========\n"
     ]
    }
   ],
   "source": [
    "# Print the 20 most liked movies by user \"569\"\n",
    "rs.print_user_chart(user=\"569\", first_n=20)"
   ]
  },
  {
   "cell_type": "markdown",
   "metadata": {},
   "source": [
    "Oh, they are fan of thriller and action movies! Such good taste..."
   ]
  },
  {
   "cell_type": "code",
   "execution_count": 9,
   "metadata": {},
   "outputs": [
    {
     "name": "stdout",
     "output_type": "stream",
     "text": [
      "Top 10 content-based recommendations for user 569:\n",
      "==========  ==================================  =================  ============\n",
      "  Position  Item Name                             Expected rating  Similarity\n",
      "==========  ==================================  =================  ============\n",
      "         1  Crimson Tide (1995)                          1.77123   23.63%\n",
      "         2  Fatal Instinct (1993)                        0.429341  19.14%\n",
      "         3  Bad Company (1995)                           0.133276  18.22%\n",
      "         4  Quick and the Dead, The (1995)               0.625093  17.98%\n",
      "         5  Hard Target (1993)                           0.335905  16.97%\n",
      "         6  Disclosure (1994)                            0.832943  15.76%\n",
      "         7  Outbreak (1995)                              1.13676   15.46%\n",
      "         8  In the Line of Fire (1993)                   0.950335  14.18%\n",
      "         9  Around the World in 80 Days (1956)           0.382406  14.05%\n",
      "        10  Mixed Nuts (1994)                            0.133761  14.05%\n",
      "==========  ==================================  =================  ============\n"
     ]
    }
   ],
   "source": [
    "rs.contentbased_filtering(user=\"569\", rec_len=10, print_chart=True)"
   ]
  },
  {
   "cell_type": "code",
   "execution_count": 10,
   "metadata": {},
   "outputs": [
    {
     "name": "stdout",
     "output_type": "stream",
     "text": [
      "Top 10 collaborative recommendations for user 569:\n",
      "==========  =========================================================  =================  ============\n",
      "  Position  Item Name                                                    Expected rating  Similarity\n",
      "==========  =========================================================  =================  ============\n",
      "         1  Crimson Tide (1995)                                                 1.77123   52.61%\n",
      "         2  Apollo 13 (1995)                                                    1.19906   46.85%\n",
      "         3  Outbreak (1995)                                                     1.13676   43.24%\n",
      "         4  Fugitive, The (1993)                                                0.342668  36.26%\n",
      "         5  Disclosure (1994)                                                   0.832943  35.24%\n",
      "         6  Quiz Show (1994)                                                    0.594029  31.78%\n",
      "         7  Waterworld (1995)                                                   0.52041   29.85%\n",
      "         8  While You Were Sleeping (1995)                                      0.656457  28.18%\n",
      "         9  Shawshank Redemption, The (1994)                                    0.390604  27.92%\n",
      "        10  Interview with the Vampire: The Vampire Chronicles (1994)           0.79788   26.63%\n",
      "==========  =========================================================  =================  ============\n"
     ]
    }
   ],
   "source": [
    "rs.collaborative_filtering(user=\"569\", rec_len=10, print_chart=True)"
   ]
  }
 ],
 "metadata": {
  "kernelspec": {
   "display_name": "Python 3 (ipykernel)",
   "language": "python",
   "name": "python3"
  },
  "language_info": {
   "codemirror_mode": {
    "name": "ipython",
    "version": 3
   },
   "file_extension": ".py",
   "mimetype": "text/x-python",
   "name": "python",
   "nbconvert_exporter": "python",
   "pygments_lexer": "ipython3",
   "version": "3.11.7"
  }
 },
 "nbformat": 4,
 "nbformat_minor": 4
}
