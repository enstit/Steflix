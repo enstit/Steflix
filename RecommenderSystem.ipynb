{
 "cells": [
  {
   "cell_type": "code",
   "execution_count": 1,
   "metadata": {},
   "outputs": [],
   "source": [
    "# Move to the directory where the project is located\n",
    "import os\n",
    "os.chdir('/work/notebooks/enstit/RecommenderSystem')"
   ]
  },
  {
   "cell_type": "markdown",
   "metadata": {},
   "source": [
    "# 💬 Recommender System"
   ]
  },
  {
   "cell_type": "markdown",
   "metadata": {},
   "source": [
    "The aim of this repository is to build a **Recommender System** that uses Matrix Factorization to learn user and items embeddings from a (sparse) review matrix, and uses them to perform user-specific suggestions."
   ]
  },
  {
   "cell_type": "markdown",
   "metadata": {},
   "source": [
    "## Reading data"
   ]
  },
  {
   "cell_type": "markdown",
   "metadata": {},
   "source": [
    "The data that we are going to use to populate our Recommender System is located in the `data` folder. IN particular, there is the `movies.csv` file that contains the list of all the movies in the collection, and the `ratings.csv` file that contains all the reviews left by users to the movies (in our system, a particular *user* can leave a score from 0 to 5 to any *movie*. It is possible to leave half points, e.g. 4.5 for an almost-perfect movie). "
   ]
  },
  {
   "cell_type": "code",
   "execution_count": 2,
   "metadata": {},
   "outputs": [],
   "source": [
    "import pandas as pd\n",
    "\n",
    "# Read movies and ratings from the related CSV files\n",
    "movies = pd.read_csv('./data/movies.csv', usecols=['movieId', 'title'])\n",
    "ratings = pd.read_csv('./data/ratings.csv', usecols=['userId', 'movieId', 'rating'])\n",
    "\n",
    "users_list = ratings.userId.unique().astype(str).tolist()\n",
    "movies_list = movies.title.unique().astype(str).tolist()[:1000]\n",
    "\n",
    "C = pd.pivot_table(ratings, values='rating', index=['userId'], columns=['movieId']).values[:, :300]"
   ]
  },
  {
   "cell_type": "markdown",
   "metadata": {},
   "source": [
    "Now we have:\n",
    "* the `users_list`, that contains the unique names of all the users that reviewed a movie,\n",
    "* the `movies_list`, with the name of all the movies in the reviewed collection, and\n",
    "* the matrix `C`, that represents the feedback that any user gave to any movie in the collection. If no review for a specific movie has been left by a user, the related cell will contain a `nan` value."
   ]
  },
  {
   "cell_type": "markdown",
   "metadata": {},
   "source": [
    "## Building the Recommender System"
   ]
  },
  {
   "cell_type": "markdown",
   "metadata": {},
   "source": [
    "The `utils` folder contains all the class definition for our system to work. In aprticular, the `recsys` package contains the definition of the `RecommenderSystem` class.\n",
    "\n",
    "When we initialize the object, it automatically use Weighted Matrix Factorization to compute *users* and *items* embeddings."
   ]
  },
  {
   "cell_type": "code",
   "execution_count": 3,
   "metadata": {},
   "outputs": [
    {
     "name": "stderr",
     "output_type": "stream",
     "text": [
      "2024-01-18 15:29:52,884 - DEBUG - Building embeddings...\n",
      "2024-01-18 15:29:55,677 - DEBUG - Iteration: 1 -> Loss: 591.8055561791718\n",
      "2024-01-18 15:29:58,291 - DEBUG - Iteration: 2 -> Loss: 146.84881658382682\n",
      "2024-01-18 15:30:00,917 - DEBUG - Iteration: 3 -> Loss: 113.28918339441566\n"
     ]
    }
   ],
   "source": [
    "from utils.recsys import RecommenderSystem\n",
    "\n",
    "rs = RecommenderSystem(reviews=C, users=users_list, items=movies_list)"
   ]
  },
  {
   "cell_type": "code",
   "execution_count": 17,
   "metadata": {},
   "outputs": [
    {
     "name": "stdout",
     "output_type": "stream",
     "text": [
      "==========  =============================  ========\n",
      "  Position  Movie Name                       Rating\n",
      "==========  =============================  ========\n",
      "         1  Pocahontas (1995)                   5\n",
      "         2  Goofy Movie, A (1995)               4.5\n",
      "         3  Little Princess, A (1995)           4.5\n",
      "         4  Balto (1995)                        4\n",
      "         5  Babe (1995)                         4\n",
      "         6  Muppet Treasure Island (1996)       3.5\n",
      "         7  Santa Clause, The (1994)            3.5\n",
      "         8  Jumanji (1995)                      3\n",
      "         9  Casper (1995)                       3\n",
      "        10  Tom and Huck (1995)                 1\n",
      "==========  =============================  ========\n"
     ]
    }
   ],
   "source": [
    "rs.print_user_chart(user=\"20\")"
   ]
  },
  {
   "cell_type": "code",
   "execution_count": null,
   "metadata": {},
   "outputs": [],
   "source": []
  }
 ],
 "metadata": {
  "kernelspec": {
   "display_name": "Python 3 (ipykernel)",
   "language": "python",
   "name": "python3"
  },
  "language_info": {
   "codemirror_mode": {
    "name": "ipython",
    "version": 3
   },
   "file_extension": ".py",
   "mimetype": "text/x-python",
   "name": "python",
   "nbconvert_exporter": "python",
   "pygments_lexer": "ipython3",
   "version": "3.11.7"
  }
 },
 "nbformat": 4,
 "nbformat_minor": 4
}
