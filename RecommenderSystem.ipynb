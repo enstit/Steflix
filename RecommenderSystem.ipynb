{
 "cells": [
  {
   "cell_type": "code",
   "execution_count": 1,
   "metadata": {},
   "outputs": [],
   "source": [
    "# Move to the directory where the project is located\n",
    "import os\n",
    "os.chdir('/work/notebooks/enstit/Steflix')"
   ]
  },
  {
   "cell_type": "markdown",
   "metadata": {},
   "source": [
    "<div align=\"center\">\n",
    "  <img src=\"./assets/steflix.png\" width=\"225px\">\n",
    "</div>\n",
    "\n",
    "# 🍿 STEFLIX: A Movie-based Recommender System"
   ]
  },
  {
   "cell_type": "markdown",
   "metadata": {},
   "source": [
    "The aim of this repository is to build a **Recommender System** that uses Matrix Factorization to learn user and items embeddings from a (sparse) review matrix, and uses them to perform user-specific suggestions."
   ]
  },
  {
   "cell_type": "markdown",
   "metadata": {},
   "source": [
    "## Reading data"
   ]
  },
  {
   "cell_type": "markdown",
   "metadata": {},
   "source": [
    "The data that we are going to use to populate our Recommender System is located in the `data` folder. In particular, there is the `movies.csv` file that contains the list of all the movies in the collection, and the `ratings.csv` file that contains all the reviews left by users to the movies (in our system, a particular *user* can leave a score from 0 to 5 to any *movie*. It is possible to leave half points, e.g. 4.5 for an almost-perfect movie). "
   ]
  },
  {
   "cell_type": "code",
   "execution_count": 2,
   "metadata": {},
   "outputs": [],
   "source": [
    "import pandas as pd\n",
    "\n",
    "# Read movies and ratings from the related CSV files\n",
    "movies = pd.read_csv('./data/movies.csv', usecols=['movieId', 'title', 'genres'])\n",
    "ratings = pd.read_csv('./data/ratings.csv', usecols=['userId', 'movieId', 'rating'])\n",
    "\n",
    "users_list = ratings.userId.unique().astype(str).tolist()\n",
    "movies_list = movies.title.unique().astype(str).tolist()\n",
    "\n",
    "C = pd.pivot_table(ratings, values='rating', index=['userId'], columns=['movieId']).values"
   ]
  },
  {
   "cell_type": "markdown",
   "metadata": {},
   "source": [
    "Now we have:\n",
    "* the `users_list`, that contains the unique names of all the 610 users that reviewed a movie,\n",
    "* the `movies_list`, with the name of all the 9737 movies in the reviewed collection, and\n",
    "* the matrix `C`, that represents the feedback that any user gave to any movie in the collection. If no review for a specific movie has been left by a user, the related cell will contain a `nan` value."
   ]
  },
  {
   "cell_type": "markdown",
   "metadata": {},
   "source": [
    "## Building the Recommender System"
   ]
  },
  {
   "cell_type": "markdown",
   "metadata": {},
   "source": [
    "The `utils` folder contains all the class definition for our system to work. In aprticular, the `recsys` package contains the definition of the `RecommenderSystem` class.\n",
    "\n",
    "After initializing the `rs` object, we have to call the `build_embeddings()` funtion to compute *users* and *items* embeddings (using Weighted Matrix Factorization)."
   ]
  },
  {
   "cell_type": "code",
   "execution_count": 3,
   "metadata": {},
   "outputs": [
    {
     "name": "stderr",
     "output_type": "stream",
     "text": [
      "2024-01-23 20:01:50,673 - DEBUG - Loading Steflix from filesystem...\n",
      "2024-01-23 20:01:50,674 - DEBUG - No filename provided, using default Steflix.pkl...\n",
      "2024-01-23 20:01:50,674 - DEBUG - Building embeddings...\n",
      "  0%|          | 0/10 [00:00<?, ?it/s]2024-01-23 20:17:20,211 - DEBUG - Iteration: 1 -> Loss: 188582.52100144\n",
      " 10%|█         | 1/10 [15:29<2:19:24, 929.38s/it]2024-01-23 20:33:06,387 - DEBUG - Iteration: 2 -> Loss: 67277.80743012756\n",
      " 20%|██        | 2/10 [31:15<2:05:14, 939.26s/it]2024-01-23 20:48:28,234 - DEBUG - Iteration: 3 -> Loss: 52187.86229456105\n",
      " 30%|███       | 3/10 [46:37<1:48:39, 931.31s/it]2024-01-23 21:03:59,724 - DEBUG - Iteration: 4 -> Loss: 45698.62246007585\n",
      " 40%|████      | 4/10 [1:02:08<1:33:08, 931.38s/it]2024-01-23 21:19:30,358 - DEBUG - Iteration: 5 -> Loss: 41958.50778415471\n",
      " 50%|█████     | 5/10 [1:17:39<1:17:35, 931.11s/it]2024-01-23 21:34:56,049 - DEBUG - Iteration: 6 -> Loss: 39484.06889138512\n",
      " 60%|██████    | 6/10 [1:33:05<1:01:57, 929.27s/it]2024-01-23 21:50:29,433 - DEBUG - Iteration: 7 -> Loss: 37711.33731035632\n",
      " 70%|███████   | 7/10 [1:48:38<46:31, 930.61s/it]  2024-01-23 22:07:31,000 - DEBUG - Iteration: 8 -> Loss: 36375.52567946943\n",
      " 80%|████████  | 8/10 [2:05:40<31:59, 959.57s/it]2024-01-23 22:52:16,655 - DEBUG - Iteration: 9 -> Loss: 35334.00771008816\n",
      " 90%|█████████ | 9/10 [2:50:25<24:59, 1499.17s/it]2024-01-23 23:07:46,033 - DEBUG - Iteration: 10 -> Loss: 34501.919252031475\n",
      "100%|██████████| 10/10 [3:05:55<00:00, 1115.52s/it]\n",
      "2024-01-23 23:07:46,036 - DEBUG - Saving Steflix to filesystem...\n",
      "2024-01-23 23:07:46,038 - DEBUG - No filename provided, using default Steflix.pkl...\n"
     ]
    }
   ],
   "source": [
    "from utils.recsys import RecommenderSystem\n",
    "\n",
    "try:\n",
    "    # Load the recommender system from filesystem\n",
    "    rs = RecommenderSystem(name=\"Steflix\")\n",
    "    rs = rs.load()\n",
    "except FileNotFoundError:\n",
    "    rs = RecommenderSystem(name=\"Steflix\", reviews=C, users=users_list, items=movies_list) # Create a new recommender system\n",
    "    rs.build_embeddings() # Build the users and items embeddings\n",
    "    rs.save() # Save the recommender system to disk for persistence"
   ]
  },
  {
   "cell_type": "markdown",
   "metadata": {},
   "source": [
    "Now our Recommender System contains information about the users name, the movies titles and the related ratings.\n",
    "\n",
    "But what about movies that are not been watched by a user? The embeddings we constructbuilted are useful for exactly this reason: they allow us to infer about how much a user is attracted to certain *latent features*, and at the same time how each movie can be described by each of these *latent features*. By putting the two together, we can try to guess what movies a user might enjoy before that user has even seen them.\n",
    "\n",
    "Let's start by seeing the top 20 movies watched by user *569*, for example: "
   ]
  },
  {
   "cell_type": "code",
   "execution_count": 4,
   "metadata": {},
   "outputs": [
    {
     "name": "stdout",
     "output_type": "stream",
     "text": [
      "==========  ======================================  ========\n",
      "  Position  Item Name                                 Rating\n",
      "==========  ======================================  ========\n",
      "         1  Batman Forever (1995)                          5\n",
      "         2  Die Hard: With a Vengeance (1995)              5\n",
      "         3  Pulp Fiction (1994)                            5\n",
      "         4  Star Trek: Generations (1994)                  5\n",
      "         5  Speed (1994)                                   5\n",
      "         6  GoldenEye (1995)                               4\n",
      "         7  Net, The (1995)                                4\n",
      "         8  Stargate (1994)                                4\n",
      "         9  Ace Ventura: Pet Detective (1994)              4\n",
      "        10  Clear and Present Danger (1994)                4\n",
      "        11  Cliffhanger (1993)                             4\n",
      "        12  Jurassic Park (1993)                           4\n",
      "        13  Aladdin (1992)                                 4\n",
      "        14  Dances with Wolves (1990)                      4\n",
      "        15  Beauty and the Beast (1991)                    4\n",
      "        16  Usual Suspects, The (1995)                     3\n",
      "        17  Dumb & Dumber (Dumb and Dumber) (1994)         3\n",
      "        18  Forrest Gump (1994)                            3\n",
      "        19  True Lies (1994)                               3\n",
      "        20  Batman (1989)                                  3\n",
      "==========  ======================================  ========\n"
     ]
    }
   ],
   "source": [
    "# Print the 20 most liked movies by user \"569\"\n",
    "rs.get_user_chart(user=\"569\", chart_len=20, print_chart=True)"
   ]
  },
  {
   "cell_type": "markdown",
   "metadata": {},
   "source": [
    "Oh, they are fan of thriller and action movies! Such good taste...\n",
    "\n",
    "Now, knowing which movies the user watched, and especially which one they enjoyed the most and the less, the Recommender System can suggest the user **new** movies that are similar (i.e., have similar *latent features*) to the movies they liked.\\\n",
    "Let's see in practice this list:"
   ]
  },
  {
   "cell_type": "code",
   "execution_count": 5,
   "metadata": {},
   "outputs": [
    {
     "name": "stdout",
     "output_type": "stream",
     "text": [
      "Top 10 content-based recommendations for user 569:\n",
      "==========  =========================================================  ============\n",
      "  Position  Item Name                                                  Similarity\n",
      "==========  =========================================================  ============\n",
      "         1  Crimson Tide (1995)                                        49.26%\n",
      "         2  Man of the Year (1995)                                     46.86%\n",
      "         3  Outbreak (1995)                                            46.00%\n",
      "         4  Disclosure (1994)                                          44.58%\n",
      "         5  Firm, The (1993)                                           41.02%\n",
      "         6  While You Were Sleeping (1995)                             40.86%\n",
      "         7  Apollo 13 (1995)                                           37.75%\n",
      "         8  Fugitive, The (1993)                                       35.96%\n",
      "         9  Interview with the Vampire: The Vampire Chronicles (1994)  35.72%\n",
      "        10  Quiz Show (1994)                                           33.30%\n",
      "==========  =========================================================  ============\n"
     ]
    }
   ],
   "source": [
    "rs.contentbased_filtering(user=\"569\", rec_len=10, print_chart=True)"
   ]
  },
  {
   "cell_type": "markdown",
   "metadata": {},
   "source": [
    "This is usually called a *Content-based filtering*, because of the nature on how new items are choosen to be suggested.\\\n",
    "There exist another form of filtering, called *Collaborative filtering*: the Recommender System collects movies from users that have tastes in common with the selected user, and rank them w.r.t. the user's *latent features*. Here's a list of movies that are suggested for the user *569* using a *Collaborative filtering*:"
   ]
  },
  {
   "cell_type": "code",
   "execution_count": 6,
   "metadata": {},
   "outputs": [
    {
     "name": "stdout",
     "output_type": "stream",
     "text": [
      "Top 10 collaborative recommendations for user 569:\n",
      "==========  =========================================================  ============\n",
      "  Position  Item Name                                                  Similarity\n",
      "==========  =========================================================  ============\n",
      "         1  Disclosure (1994)                                          74.12%\n",
      "         2  Crimson Tide (1995)                                        71.17%\n",
      "         3  Firm, The (1993)                                           70.33%\n",
      "         4  Outbreak (1995)                                            69.56%\n",
      "         5  While You Were Sleeping (1995)                             64.33%\n",
      "         6  Apollo 13 (1995)                                           62.03%\n",
      "         7  Fugitive, The (1993)                                       61.11%\n",
      "         8  Interview with the Vampire: The Vampire Chronicles (1994)  57.74%\n",
      "         9  Legends of the Fall (1994)                                 57.03%\n",
      "        10  Waterworld (1995)                                          56.85%\n",
      "==========  =========================================================  ============\n"
     ]
    }
   ],
   "source": [
    "rs.collaborative_filtering(user=\"569\", rec_len=10, print_chart=True)"
   ]
  },
  {
   "cell_type": "markdown",
   "metadata": {},
   "source": [
    "In the real world, these two approaches are used together: the list of suggested items consists of both items that are similar to those liked by the user, and items that have been seen and rated positively by users who have tastes in common with the subject."
   ]
  },
  {
   "cell_type": "markdown",
   "metadata": {},
   "source": [
    "## Possible future improvements"
   ]
  },
  {
   "cell_type": "markdown",
   "metadata": {},
   "source": [
    "The Recommender System we described is a good starting point, but far from being a perfect system.\\\n",
    "Here are some ideas for expanding and improving the project:\n",
    "* for the Weighted Matrix Factorization, *Alternating Least Squares* has been used in order to find the embeddings matrices. It would be useful to also try other methods, e.g. the *Stochastic Gradient Descent*;\n",
    "* the collections of users, movies and ratings have been considered as static and immutable in time. In a real-world scenario, this is never the case. Some methods for embeddings updating after a new user, movie or rating has been recorded can be studied and implemented;\n",
    "* our Recommender System does not include a **candidate selection** step: the corpus of items could potentially be huge, thus the retrieval must be fast. Having a different fucntion for this step, also allows for a more precise selection in the **ranking the candidates** step, taking into considerations further infomation (e.g., the date of the ratings, movies genres, ...);\n",
    "* the code of the `__update_users_matrix` and `__update_items_matrix` methods of the `WeightedMatrixFactorization` class can be optimized with parallelization."
   ]
  },
  {
   "cell_type": "markdown",
   "metadata": {},
   "source": []
  }
 ],
 "metadata": {
  "kernelspec": {
   "display_name": "Python 3 (ipykernel)",
   "language": "python",
   "name": "python3"
  },
  "language_info": {
   "codemirror_mode": {
    "name": "ipython",
    "version": 3
   },
   "file_extension": ".py",
   "mimetype": "text/x-python",
   "name": "python",
   "nbconvert_exporter": "python",
   "pygments_lexer": "ipython3",
   "version": "3.11.7"
  }
 },
 "nbformat": 4,
 "nbformat_minor": 4
}
