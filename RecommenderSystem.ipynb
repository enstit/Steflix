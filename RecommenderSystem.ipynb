{
 "cells": [
  {
   "cell_type": "code",
   "execution_count": 1,
   "metadata": {},
   "outputs": [],
   "source": [
    "# Move to the directory where the project is located\n",
    "import os\n",
    "os.chdir('/work/notebooks/enstit/Steflix')"
   ]
  },
  {
   "cell_type": "markdown",
   "metadata": {},
   "source": [
    "<div align=\"center\">\n",
    "  <img src=\"./assets/steflix.png\" width=\"225px\">\n",
    "</div>\n",
    "\n",
    "# 🍿 STEFLIX: A Movie-based Recommender System"
   ]
  },
  {
   "cell_type": "markdown",
   "metadata": {},
   "source": [
    "The aim of this repository is to build a **Recommender System** that uses Matrix Factorization to learn users and items embeddings from a (sparse) review matrix, and uses them to perform user-specific suggestions (both adopting a *Content-based filtering* and a *Collaborative filtering*)."
   ]
  },
  {
   "cell_type": "markdown",
   "metadata": {},
   "source": [
    "## Reading the data"
   ]
  },
  {
   "cell_type": "markdown",
   "metadata": {},
   "source": [
    "The data that we are going to use to populate our Recommender System is located in the [data](./data/) folder. In particular, there is the [movies.csv](./data/movies.csv) file that contains the list of all the movies in the collection, and the [ratings.csv](./data/ratings.csv) file that contains all the reviews left by users to the movies (in our system, a particular *user* can leave a score from 0 to 5 to any *movie* (0 excluded). It is possible to leave half points, e.g. 4.5 for an almost-perfect movie). "
   ]
  },
  {
   "cell_type": "code",
   "execution_count": 2,
   "metadata": {},
   "outputs": [],
   "source": [
    "import pandas as pd\n",
    "\n",
    "# Read movies and ratings from the related CSV files\n",
    "movies = pd.read_csv('./data/movies.csv', usecols=['movie_id', 'title'])\n",
    "ratings = pd.read_csv('./data/ratings.csv', usecols=['user_id', 'movie_id', 'rating'])\n",
    "\n",
    "users_list = [f\"User {user_idx}\" for user_idx in sorted(ratings.user_id.unique())]\n",
    "movies_list = movies.title.unique().astype(str).tolist()\n",
    "\n",
    "feedbacks_matrix = pd.pivot_table(ratings, values='rating', index=['user_id'], columns=['movie_id']).values"
   ]
  },
  {
   "cell_type": "markdown",
   "metadata": {},
   "source": [
    "Now we have:\n",
    "* the `users_list`, that contains the unique names of all the 943 users that reviewed a movie,\n",
    "* the `movies_list`, with the name of all the 1682 movies in the reviewed collection, and\n",
    "* the matrix `C`, that represents the feedback that any user gave to any movie in the collection. If no review for a specific movie has been left by a user, the related cell will contain a `nan` value."
   ]
  },
  {
   "cell_type": "markdown",
   "metadata": {},
   "source": [
    "## Building the Recommender System"
   ]
  },
  {
   "cell_type": "markdown",
   "metadata": {},
   "source": [
    "The `utils` folder contains all the class definition for our system to work. In aprticular, the `recsys` package contains the definition of the `RecommenderSystem` class.\n",
    "\n",
    "After initializing the `rs` object, we have to call the `build_embeddings()` funtion to compute *users* and *items* embeddings (using Weighted Matrix Factorization)."
   ]
  },
  {
   "cell_type": "code",
   "execution_count": 3,
   "metadata": {},
   "outputs": [
    {
     "name": "stderr",
     "output_type": "stream",
     "text": [
      "2024-01-25 09:54:27,038 - DEBUG - Loading Steflix_2 from filesystem...\n",
      "2024-01-25 09:54:27,039 - DEBUG - No filename provided, using default Steflix_2.pkl...\n"
     ]
    }
   ],
   "source": [
    "from utils.recsys import RecommenderSystem\n",
    "\n",
    "try:\n",
    "    # Load the recommender system from filesystem\n",
    "    rs = RecommenderSystem(name=\"Steflix\")\n",
    "    rs = rs.load()\n",
    "except FileNotFoundError:\n",
    "    rs = RecommenderSystem(name=\"Steflix\", reviews=feedbacks_matrix, users=users_list, items=movies_list) # Create a new recommender system\n",
    "    rs.build_embeddings() # Build the users and items embeddings with 50 latent factors\n",
    "    rs.save() # Save the recommender system to disk for persistence"
   ]
  },
  {
   "cell_type": "markdown",
   "metadata": {},
   "source": [
    "Now our Recommender System contains information about the users names, the movies titles and the related ratings.\n",
    "\n",
    "But what about movies that are not been watched by a user? The embeddings we constructbuilted are useful for exactly this reason: they allow us to infer about how much a user is attracted to certain *latent features*, and at the same time how each movie can be described by each of these *latent features*. By putting the two together, we can try to guess what movies a user might enjoy before that user has even seen them.\n",
    "\n",
    "Let's start by seeing the top 20 movies watched by *User 475*, for example: "
   ]
  },
  {
   "cell_type": "code",
   "execution_count": 4,
   "metadata": {},
   "outputs": [
    {
     "name": "stdout",
     "output_type": "stream",
     "text": [
      "==========  =========================================  ========\n",
      "  Position  Item Name                                    Rating\n",
      "==========  =========================================  ========\n",
      "         1  Star Wars (1977)                                  5\n",
      "         2  Fargo (1996)                                      5\n",
      "         3  George of the Jungle (1997)                       5\n",
      "         4  FairyTale: A True Story (1997)                    5\n",
      "         5  Schindler's List (1993)                           5\n",
      "         6  Nil By Mouth (1997)                               5\n",
      "         7  Four Weddings and a Funeral (1994)                4\n",
      "         8  Godfather, The (1972)                             4\n",
      "         9  Gattaca (1997)                                    4\n",
      "        10  In the Name of the Father (1993)                  4\n",
      "        11  Desperate Measures (1998)                         4\n",
      "        12  Fallen (1998)                                     4\n",
      "        13  Naked Gun 33 1/3: The Final Insult (1994)         4\n",
      "        14  Fly Away Home (1996)                              3\n",
      "        15  Misérables, Les (1995)                            3\n",
      "        16  Marvin's Room (1996)                              2\n",
      "        17  Apt Pupil (1998)                                  2\n",
      "        18  One Flew Over the Cuckoo's Nest (1975)            2\n",
      "        19  Contact (1997)                                    1\n",
      "        20  Ice Storm, The (1997)                             1\n",
      "==========  =========================================  ========\n"
     ]
    }
   ],
   "source": [
    "# Print the 20 most liked movies by the user \"User 475\"\n",
    "rs.get_user_chart(user=\"User 475\", chart_len=20, print_chart=True)"
   ]
  },
  {
   "cell_type": "markdown",
   "metadata": {},
   "source": [
    "Oh, they are fan of thriller and action movies! Such good taste..."
   ]
  },
  {
   "cell_type": "markdown",
   "metadata": {},
   "source": [
    "### Content-based filtering"
   ]
  },
  {
   "cell_type": "markdown",
   "metadata": {},
   "source": [
    "Now, knowing which movies the user watched, and especially which one they enjoyed the most and the less, the Recommender System can suggest the user **new** movies that are similar (i.e., have similar *latent features*) to the movies they liked.\\\n",
    "Let's see in practice this list:"
   ]
  },
  {
   "cell_type": "code",
   "execution_count": 5,
   "metadata": {},
   "outputs": [
    {
     "name": "stdout",
     "output_type": "stream",
     "text": [
      "Top 20 content-based recommendations for user User 475:\n",
      "==========  ===========================================  ============\n",
      "  Position  Item Name                                    Similarity\n",
      "==========  ===========================================  ============\n",
      "         1  Man Who Knew Too Little, The (1997)          40.48%\n",
      "         2  Heat (1995)                                  38.93%\n",
      "         3  Return of the Jedi (1983)                    38.60%\n",
      "         4  L.A. Confidential (1997)                     37.03%\n",
      "         5  Grosse Pointe Blank (1997)                   35.17%\n",
      "         6  Shall We Dance? (1996)                       35.00%\n",
      "         7  Jackal, The (1997)                           34.95%\n",
      "         8  Treasure of the Sierra Madre, The (1948)     34.68%\n",
      "         9  To Catch a Thief (1955)                      34.66%\n",
      "        10  Men in Black (1997)                          34.44%\n",
      "        11  Once Upon a Time in America (1984)           33.82%\n",
      "        12  Chasing Amy (1997)                           33.80%\n",
      "        13  3 Ninjas: High Noon At Mega Mountain (1998)  33.32%\n",
      "        14  Jackie Brown (1997)                          33.11%\n",
      "        15  Deceiver (1997)                              32.99%\n",
      "        16  Titanic (1997)                               32.93%\n",
      "        17  Leaving Las Vegas (1995)                     32.34%\n",
      "        18  Mercury Rising (1998)                        32.31%\n",
      "        19  Geronimo: An American Legend (1993)          32.28%\n",
      "        20  Lone Star (1996)                             32.16%\n",
      "==========  ===========================================  ============\n"
     ]
    }
   ],
   "source": [
    "rs.contentbased_filtering(user=\"User 475\", rec_len=20, print_chart=True)"
   ]
  },
  {
   "cell_type": "markdown",
   "metadata": {},
   "source": [
    "This is usually called a *Content-based filtering*, because of the nature on how new items are choosen to be suggested."
   ]
  },
  {
   "cell_type": "markdown",
   "metadata": {},
   "source": [
    "### Collaborative filtering"
   ]
  },
  {
   "cell_type": "markdown",
   "metadata": {},
   "source": [
    "There exist another form of filtering, called *Collaborative filtering*: the Recommender System collects movies from users that have tastes in common with the selected user, and rank them w.r.t. the user's *latent features*. Here's a list of movies that are suggested for the user *569* using a *Collaborative filtering*:"
   ]
  },
  {
   "cell_type": "code",
   "execution_count": 6,
   "metadata": {},
   "outputs": [
    {
     "name": "stdout",
     "output_type": "stream",
     "text": [
      "Top 20 collaborative recommendations for user User 475:\n",
      "==========  ===========================================================================  ============\n",
      "  Position  Item Name                                                                    Similarity\n",
      "==========  ===========================================================================  ============\n",
      "         1  Return of the Jedi (1983)                                                    59.92%\n",
      "         2  Heat (1995)                                                                  57.86%\n",
      "         3  Toy Story (1995)                                                             56.89%\n",
      "         4  Lone Star (1996)                                                             56.74%\n",
      "         5  Men in Black (1997)                                                          55.90%\n",
      "         6  Liar Liar (1997)                                                             55.88%\n",
      "         7  Grosse Pointe Blank (1997)                                                   55.50%\n",
      "         8  Treasure of the Sierra Madre, The (1948)                                     55.49%\n",
      "         9  Leaving Las Vegas (1995)                                                     54.90%\n",
      "        10  Jerry Maguire (1996)                                                         53.18%\n",
      "        11  Star Trek: First Contact (1996)                                              52.83%\n",
      "        12  In & Out (1997)                                                              52.79%\n",
      "        13  Wings of Desire (1987)                                                       51.92%\n",
      "        14  Rock, The (1996)                                                             51.82%\n",
      "        15  Shall We Dance? (1996)                                                       51.69%\n",
      "        16  L.A. Confidential (1997)                                                     51.63%\n",
      "        17  Dr. Strangelove or: How I Learned to Stop Worrying and Love the Bomb (1963)  51.49%\n",
      "        18  Truth About Cats & Dogs, The (1996)                                          51.41%\n",
      "        19  Dead Man Walking (1995)                                                      51.28%\n",
      "        20  Con Air (1997)                                                               51.10%\n",
      "==========  ===========================================================================  ============\n"
     ]
    }
   ],
   "source": [
    "rs.collaborative_filtering(user=\"User 475\", rec_len=20, print_chart=True)"
   ]
  },
  {
   "cell_type": "markdown",
   "metadata": {},
   "source": [
    "In the real world, these two approaches are used together: the list of suggested items consists of both items that are similar to those liked by the user, and items that have been seen and rated positively by users who have tastes in common with the subject."
   ]
  },
  {
   "cell_type": "markdown",
   "metadata": {},
   "source": [
    "## Possible future improvements"
   ]
  },
  {
   "cell_type": "markdown",
   "metadata": {},
   "source": [
    "The Recommender System we described is a good starting point, but far from being a perfect system.\\\n",
    "Here are some ideas for expanding and improving the project:\n",
    "* for the Weighted Matrix Factorization, *Alternating Least Squares* has been used in order to find the embeddings matrices. It would be useful to also try other methods, e.g. the *Stochastic Gradient Descent*;\n",
    "* as for the *Alternating Least Squares*, it is known to have a very fast convergence. It would be nice to have a visual representation of the learning curve, also trying different hyperparameters.\n",
    "* the collections of users, movies and ratings have been considered as static and immutable in time. In a real-world scenario, this is never the case. Some methods for embeddings updating after a new user, movie or rating has been recorded can be studied and implemented;\n",
    "* our Recommender System does not include a **candidate selection** step: the corpus of items could potentially be huge, thus the retrieval must be fast. Having a different fucntion for this step, also allows for a more precise selection in the **ranking the candidates** step, taking into considerations further infomation (e.g., the date of the ratings, movies genres, ...);\n",
    "* the code of the `__update_users_matrix` and `__update_items_matrix` methods of the `WeightedMatrixFactorization` class can be optimized with parallelization."
   ]
  }
 ],
 "metadata": {
  "kernelspec": {
   "display_name": "Python 3 (ipykernel)",
   "language": "python",
   "name": "python3"
  }
 },
 "nbformat": 4,
 "nbformat_minor": 4
}
